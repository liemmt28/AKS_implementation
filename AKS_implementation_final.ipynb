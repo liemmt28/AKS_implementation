{
 "cells": [
  {
   "cell_type": "markdown",
   "metadata": {},
   "source": [
    "# Thuật toán AKS kiểm tra số nguyên tố trong thời gian đa thức yếu\n",
    "\n",
    "**Sinh viên: Mai Thanh Liêm - Mã sinh viên: 19000202**\n",
    "\n",
    "**Giáo viên hướng dẫn: PGS. TS. Phó Đức Tài**"
   ]
  },
  {
   "cell_type": "markdown",
   "metadata": {},
   "source": [
    "## 1. Giới thiệu\n",
    "\n",
    "\n",
    "Số nguyên tố là một khái niệm cơ bản quan trọng trong Toán học nói chung và trong Lý thuyết Số nói riêng. Vì vậy, việc nghiên cứu các tính chất xoay quanh các số nguyên tố là điều cần thiết, và cũng rất thú vị. Tất nhiên, điều đầu tiên ta quan tâm chính là xác định xem một số bất kỳ có là số nguyên tố hay không, và chúng ta cần một phương pháp có hiệu quả cao trong ứng dụng thực tế của số nguyên tố, điển hình như trong Lý thuyết Mật mã (đó là khi ta cần làm việc với những con số có giá trị rất lớn).\n",
    "\n",
    "Định nghĩa của số nguyên tố khá đơn giản: Số tự nhiên $n$ được gọi là một số nguyên tố nếu $n$ chỉ có đúng 2 ước là 1 và $n$. Cũng từ định nghĩa này, một cách tự nhiên ta có một phương pháp kiểm tra số nguyên tố cơ bản: thử lần lượt tất cả các số tự nhiên nhỏ hơn $n$ xem có phải ước của $n$ hay không, nếu có một số lớn hơn 1 thỏa mãn thì $n$ không phải một số nguyên tố (hợp số) và ngược lại. Dẫu cho số lượng các số cần thử có thể giảm xuống còn $\\sqrt{n}$ (dễ thấy, nếu $n$ có ước không tầm thường thì ước nhỏ nhất phải nhỏ hơn $\\sqrt{n}$), khi làm việc với số $n$ lớn, thời gian chạy của phương pháp này là $\\Omega(\\sqrt{n})$. Vì vậy, việc đưa ra một phương pháp kiểm tra số nguyên tố trong thời gian đa thức (hoặc giả đa thức) là cần thiết và là một bước ngoặt lớn trong lĩnh vực này.\n",
    "\n",
    "Một định lý $\\textit{gần như}$ cho ta một phương pháp như vậy là Định lý Fermat \"nhỏ\": với mọi số nguyên tố $p$, và số $a$ bất kỳ không phải ước của $p$, ta có: $a^{p - 1} = 1 \\pmod{p}$. Cho trước số $a$ và $n$, có thể dễ dàng kiểm tra điều kiện $a^{n - 1} = 1 \\pmod{n}$ bằng cách bình phương liên tiếp để tính giá trị $a^{n - 1}$. Tuy nhiên, đây chưa phải một cách kiểm tra chính xác do có nhiều $n$ - hợp số cũng thỏa mãn tính chất với $a$ là một số $\\textit{Carnichael}$. Tất nhiên, Định lý Fermat nhỏ cũng trở thành cơ sở của nhiều phương pháp kiểm tra khác.\n",
    "\n",
    "Agrawal, Kayal và Saxena là những người đầu tiên đưa ra được một thuật toán (vô điều kiện) tất định chạy trong thời gian đa thức cho bài toán kiểm tra số nguyên tố. Đáng chú ý là, việc xây dựng Thuật toán dựa trên các công cụ đơn giản của Đại số, những kiến thức mà một sinh viên hoàn toàn có thể hiểu được.\n",
    "\n",
    "\n",
    "### Ý tưởng\n",
    "\n",
    "\n",
    "Phương pháp kiểm tra này được đưa ra dựa trên tính chất của số nguyên tố trong phát biểu tổng quát của Định lý Fermat nhỏ đối với vành đa thức trên trường hữu hạn:\n",
    "\n",
    "**Bổ đề 1.** Cho $a \\in \\mathbb{Z}, n \\in \\mathbb{N}, n \\geq 2,$ và $(a, n) = 1$. Khi đó, $n$ là số nguyên tố khi và chỉ khi\n",
    "$$(X + a)^n = X^n + a \\pmod{n}.$$\n",
    "_Chứng minh._ Giả sử $n$ là số nguyên tố. Xét\n",
    "\\begin{align*}\n",
    "    (X + a)^n - (X^n + a) &= \\sum_{i = 0}^n {n\\choose i} X^ia^{n-i} - (X^n + a)\\\\\n",
    "    &= \\sum_{i = 1}^{n - 1} {n\\choose i} X^ia^{n-i} + a^n - a.\n",
    "\\end{align*}\n",
    "Vì $n$ là số nguyên tố, mà thừa số ${n \\choose i} \\in \\mathbb{N}$ nên $n\\;\\vert{n \\choose i}.$ Hơn nữa, $a^n - a = 0 \\pmod{n}$ theo Định lý Fermat nhỏ. Tóm lại,\n",
    "$$(X + a)^n - (X^n + a) = 0 \\pmod{n}.$$\n",
    "Ở chiều ngược lại, giả sử có $(X + a)^n = X^n + a \\pmod{n}.$ Giả sử phản chứng, $n$ là hợp số. Xét số nguyên tố $q$ là một ước của $n$ thỏa mãn $q^k\\vert n$ mà $q^{k + 1} \\nmid n.$ Khi đó, $q^k$ không chia hết $n \\choose q$ và nguyên tố cùng nhau với $a^{n-q},$ tức là \n",
    "\\begin{align*}\n",
    "    (X + a)^n - (X^n + a) &= \\sum_{q \\ne i = 0}^n{n\\choose i}X^ia^{n-i} - (X^n + a) + {n \\choose q}X^qa^{n-q}\\\\\n",
    "    &\\ne 0 \\pmod{n}\n",
    "\\end{align*}\n",
    "Vậy, $((X + a)^n - (X^n + a)) \\ne 0 \\pmod{n},$ mâu thuẫn. Vậy $n$ phải là số nguyên tố. $\\blacksquare$\n",
    "\n",
    "Tính chất trên gợi ý cho ta một phương pháp kiểm tra đơn giản về sự nguyên tố: cho trước một số $n,$ chọn một số $a$ và kiểm tra điều kiện của Bổ đề trên có thỏa mãn. tất nhiên, phương pháp này vẫn cần thời gian là $\\Omega(n)$ vì chúng ta cần tính giá trị $n$ hệ số của vế trái, trong trường hợp xấu nhất. Một cách đơn giản hơn để giảm số lượng các hệ số là tính toán ở cả 2 vế với Modulo một đa thức có dạng $X^r - 1$ với $r$ chọn khá nhỏ. Nói cách khác, phương pháp kiểm tra đẳng thức sau có thỏa mãn:\n",
    "$$(X+a)^n = X^n + a \\pmod{X^r - 1, n}.$$\n",
    "\n",
    "Với Bổ đề trên, ta thấy ngay mọi số nguyên tố $n$ đều thỏa mãn đồng dư thức thứ 2 với mọi giá trị $a$ và $r.$ Vấn đề bây giờ là với một số hợp số $n$ nào đó thỏa mãn đẳng thức với một vài giá trị $a$ và $r.$ Tất nhiên, ta có thể gần như phục hồi đặc tính: chỉ ra rằng với một số $r$ khá nhỏ, nếu đồng dư thức thứ 2 cũng thỏa mãn với khá nhiều $a,$ thì $n$ phải là một lũy thừa của một số nguyên tố. Số các số $a$ và $r$ đều bị chặn bởi một đa thức của $\\log n,$ và vì vậy, ta có thuật toán với thời gian đa thức yếu cho phương pháp kiểm tra tính nguyên tố."
   ]
  },
  {
   "cell_type": "markdown",
   "metadata": {},
   "source": [
    "## 2. Thuật toán\n",
    "\n",
    "\n",
    "**Thuật toán (Mã giả).**\n",
    "\n",
    "Input: Số tự nhiên $n > 1.$\n",
    "1. Nếu $(n = a^b$ với $a \\in \\mathbb{N}$ và $b > 1),$ output COMPOSITE.\n",
    "2. Tìm số $r$ nhỏ nhất thỏa mãn $\\mbox{o}_r(n) > log^2n.$\n",
    "3. Nếu $1 < (a, n) < n$ với $a \\leq r$ nào đó, output COMPOSITE.\n",
    "4. Nếu $n \\leq r,$ output PRIME.\n",
    "5. Với $a = 1$ tới $\\lfloor\\sqrt{\\Phi(r)}\\log n\\rfloor$ do\n",
    "$$ \\mbox{if}\\;((X + a)^n \\ne X^n + a \\pmod{X^r - 1, n}),\\;\\mbox{output COMPOSITE}.$$\n",
    "6. Output COMPOSITE.\n",
    "\n",
    "\n",
    "### Tính đúng đắn của thuật toán\n",
    "\n",
    "\n",
    "**Định lý 1.** Thuật toán trên trả về PRIME nếu và chỉ nếu $n$ là số nguyên tố.\n",
    "\n",
    "\n",
    "Để chứng minh Định lý này, ta cần một số các bổ đề tiếp theo. Bắt đầu với bổ đề khá hiển nhiên sau, là chiều \"chỉ nếu\" của Định lý 1.\n",
    "\n",
    "\n",
    "**Bổ đề 2.**  Nếu $n$ là số nguyên tố, thì Thuật toán sẽ trả về PRIME.\n",
    "\n",
    "_Chứng minh._\n",
    "Giả sử $n$ là số nguyên tố.\n",
    "- Bước 1: không thể trả về COMPOSITE;\n",
    "- Bước 2: Do $n$ là số nguyên tố nên tồn tại số $\\mbox{o}_r(n)$ và thỏa mãn điều kiện;\n",
    "- Bước 3: Do $n$ là số nguyên tố nên $\\forall a \\in \\mathbb{N}, (a, n) \\in \\{1, n\\}.$ Từ đó không thể trả về COMPOSITE.\n",
    "- Bước 5: Do $n$ là số nguyên tố nên theo Bổ đề 2.1, không thể trả về COMPOSITE ở đây.\n",
    "Từ đó, ta thấy Thuật toán chỉ có thể trả về PRIME ở Bước 4, hoặc Bước 6.$\\blacksquare$\n",
    "\n",
    "\n",
    "Với chiều \"nếu\" của Định lý 1, để ý rằng, tại Bước 4, nếu Thuật toán trả về PRIME thì $n$ là số nguyên tố. Thật vậy, nếu ngược lại, $n$ là hợp số, thì ở Bước 3, thuật toán đã tìm được một ước không tầm thường (khác $1, n$) của $n$ và trả về COMPOSITE. Vì vậy, ta chỉ cần kiểm tra Bước 6 của Thuật toán ở chiều này của Định lý 1. Tất nhiên, để đến được bước này, ta phải trải qua các bước trước đó:\n",
    "- Bước 2: ta cần tìm $r$ phù hợp, \"đủ nhỏ\" hay cần giới hạn cỡ của $r;$\n",
    "- Bước 4: cho ta biết $n > r;$\n",
    "- Bước 5: kiểm tra một số lượng đồng dư thức.\n",
    "\n",
    "\n",
    "**Bổ đề 2.** Giả sử $\\mbox{LCM}(m)$ là bội chung nhỏ nhất của $m$ số tự nhiên đầu tiên. Với $m \\geq 7,$ ta có:\n",
    "$$\\mbox{LCM}(m) \\geq 2^m.$$\n",
    "\n",
    "_Chứng minh._\n",
    "Với $1 \\leq m \\leq n,$ xét tích phân\n",
    "$$I = \\int_0^1 x^{m-1}(1 - x)^{n - m}dx = \\sum_{r = 0}^{n - m}(- 1)^r{{n - m}\\choose r}\\dfrac{1}{m + r}.$$\n",
    "Khi đó, dễ thấy $\\mbox{LCM}(n)\\cdot I \\in \\mathbb{N},\\;\\forall m, 1 \\leq m \\leq n.$ Suy ra,\n",
    "$$n{2n \\choose n}\\;\\vert\\;\\mbox{LCM}(2n).$$\n",
    "Hơn nữa, $(2n + 1) {2n \\choose n} = (n + 1){2n + 1 \\choose n + 1}\\;\\vert\\;\\mbox{LCM}(2n + 1).$ Do $(n, 2n + 1) = 1,$ ta suy ra được $n(2n + 1){2n\\choose n}\\;\\vert\\;\\mbox{LCM}(2n + 1).$ Vậy,\n",
    "\\begin{align*}\n",
    "    \\mbox{LCM}(2n + 1) &\\geq n(2n + 1){2n\\choose n} \\geq n4^n.\\\\\n",
    "    \\Rightarrow\\mbox{LCM}(2n + 1) &\\geq 2^{2n + 1},\\;\\mbox{với}\\;n\\geq 2,\\\\\n",
    "    \\Rightarrow\\mbox{LCM}(2n + 2) &\\geq \\mbox{LCM}(2n + 2) \\geq 2^{2n + 2},\\;\\mbox{với}\\;n\\geq 4.\n",
    "\\end{align*}\n",
    "Tóm lại, $\\mbox{LCM}(n) \\geq 2^n,$ với $n \\geq 7,$ (dễ dàng kiểm tra các trường hợp $n = 7, 8 , 9$ cũng thỏa mãn bất đẳng thức này. $\\blacksquare$\n",
    "\n",
    "\n",
    "**Bổ đề 3.** $\\exists r \\leq \\max\\{3, \\lceil \\log^5 n\\rceil\\}: \\mbox{o}_r(n) > \\log^2 n.$\n",
    "\n",
    "_Chứng minh._\n",
    "Với $n = 2,$ ta có $3 = r$ thỏa mãn: $2^2 = 1 \\pmod{3}, 2 > 1 = \\log^2n.$\n",
    "Với $n > 2,$ khi đó, $\\lceil\\log^5n\\rceil > 10.$ Giả sử $r_1, \\dots, r_t$ là các số thỏa mãn hoặc $\\mbox{o}_{r_i}(n) \\leq \\log^2n$ hoặc $r_i \\vert n,$ với $i$ nào đó. Xét\n",
    "$$n \\prod_{j = 1}^{\\lfloor\\log^2n\\rfloor}(n^j - 1) = n(n - 1)(n^2 - 1)\\cdots (n^{\\mbox{o}_{r_j}(n)} - 1) \\cdots(n^{\\lfloor\\log^2n\\rfloor} - 1)$$\n",
    "Để ý rằng, các thừa số $n^{\\mbox{o}_{r_j}(n)} - 1$ chia hết cho $r_j$ với $j$ nào đó theo định nghĩa. Nói cách khác, tích trên chia hết cho mọi số thuộc tập hợp $\\{r_1,\\dots,r_t\\}.$ Hơn nữa, ta lại có\n",
    "$$n \\prod_{j = 1}^{\\lfloor\\log^2n\\rfloor}(n^j - 1) < n^{\\log^4n} = 2^{\\log^5n}.$$\n",
    "Theo Bổ đề 2, $\\mbox{LCM}(\\lceil\\log^5n\\rceil) \\geq 2^{\\lceil\\log^5n\\rceil},$ và đồng nghĩa với việc tồn tại một số $s \\leq \\lceil\\log^5n\\rceil$ thỏa mãn $s \\notin \\{r_1,\\dots,r_t\\}.$ Nếu $(s, n) = 1$ thì $\\mbox{o}_s(n) > \\log^2n,$ và khi đó chỉ cần chọn $r = s.$ Nếu $(s, n) > 1,$ khi đó, vì $s$ không chia hết $n$ và $(s, n) \\notin \\{r_1,\\dots,r_t\\},$ chọn $r = \\frac{s}{(s,n)} \\notin \\{r_1,\\dots,r_t\\}$ và khi đó, $\\mbox{o}_r(n) > \\log^2n.$ $\\blacksquare$\n",
    "\n",
    "\n",
    "Một chú ý, rằng Bổ đề 3 chỉ ra tồn tại số $r \\leq \\lceil \\log^5 n\\rceil\\,$ cho nên Bước 4 của Thuật toán được thực hiện chỉ khi $n \\leq 5690034.$\n",
    "\n",
    "\n",
    "Vì $\\mbox{o}_r(n) > 1,$ khi đó tồn tại một ước nguyên tố $p$ của $n$ sao cho $\\mbox{o}_r(p) > 1.$ Ta cũng biết rằng $p > r,$ vì nếu không Thuật toán đã dừng ở Bước 3 hoặc 4. Do $(n, r) = 1$ nên $p, n \\pmod{r} \\in \\mathbb{Z_r^*}.$ Để thuật tiện, ta sẽ cố định số $p, r$ và $l = \\lfloor\\sqrt{\\Phi(r)}\\log n\\rfloor$ ở phần còn lại.\n",
    "\n",
    "\n",
    "Bước 5 của Thuật toán kiểm tra $l$ phương trình. Vì Thuật toán không trả về COMPOSITE ở bước này, ta có\n",
    "$$(X + a)^n = X^n + a \\pmod{X^r - 1, n}$$\n",
    "với mọi số $a, 0 \\leq a \\leq l$. Điều này trực tiếp suy ra\n",
    "$$(X + a)^n = X^n + a \\pmod{X^r - 1, p}$$\n",
    "với $0 \\leq a \\leq l.$ Theo Bổ đề 1, ta có\n",
    "$$(X + a)^p = X^p + a \\pmod{X^r - 1, n}$$\n",
    "với $0 \\leq a \\leq l.$ Từ 2 phương trình trên, ta cũng có\n",
    "$$(X + a)^{\\frac{n}{p}} = X^{\\frac{n}{p}} + a \\pmod{X^r - 1, n}$$\n",
    "với $0 \\leq a \\leq l.$ Ta thấy các số $n$ và $\\frac{n}{p}$ có vai trò tương tự số nguyên tố $p$ trong các phương trình này, và từ đây có định nghĩa:\n",
    "\n",
    "\n",
    "**Định nghĩa 1.** Với đa thức $f(X)$ và số $m \\in \\mathbb{N},$ ta nói $m$ là số nội tâm của đa thức $f(X)$ nếu\n",
    "$$[f(X)]^m = f(X^m) \\pmod{X^r - 1, p}.$$\n",
    "\n",
    "Ta thấy, các số $\\frac{n}{p}$ và $p$ đều là số nội tâm của $X + a$ với $0 \\leq a \\leq l.$\n",
    "\n",
    "Dễ dàng thấy rằng, tính chất nội tâm là đóng dưới phép toán nhân, và với số $m$ nào đó, tập hợp các đa thức nhận $m$ là số nội tâm cũng đóng dưới phép toán nhân. Từ đó, mọi số thuộc tập hợp $I = \\{(\\frac{n}{p}^i \\cdot p^j \\vert i, j \\geq 0\\}$ đều là nội tâm của mọi đa thức thuộc tập hợp $P = \\{\\prod_{a=0}^l(X + a)^{e_a} \\vert e_a \\geq 0\\}.$ Tiếp theo, ta sẽ định nghĩa 2 cấu trúc nhóm dựa trên 2 tập hợp đóng vai trò quan trọng của chứng minh này.\n",
    "\n",
    "Nhóm đầu tiên là nhóm các số dư của các số thuộc tập $I$ khi chia Modulo cho $r.$ Dễ thấy đây là một nhóm con của $\\mathbb{Z}_r^*$ vì $(n, r) = (p, r) = 1.$ Đặt tên nhóm này là $G$ và đặt $t = \\lvert G \\rvert.$ $G$ được sinh bởi $n$ và $p$ Modulo $r$ và vì $\\mbox{o}_r(n) > \\log^2n, t > \\log^2n.$\n",
    "\n",
    "Để định nghĩa nhóm thứ 2, ta cần một vài kiến thức cơ bản về các đa thức vòng tròn trên trường hữu hạn. Giả sử $Q_r(X)$ là đa thức vòng tròn thứ $r$ trên trường $\\mathbb{F}_p.$ Đa thức $Q_r(X)$ chia hết $X^r - 1$ và phân tích được thành các nhân tử bất khả quy có cấp $\\mbox{o}_r(p).$ Đặt $h(X)$ là một nhân tử bất khả quy như vậy. Vì $\\mbox{o}_r(p) > 1,$ bậc của đa thức $h(X)$ cũng phải lớn hơn 1. Nhóm thứ 2 sẽ là nhóm các phần dư khi chia các đa thức thuộc $P$ Modulo $h(X)$ và $p.$ Đặt tên nhóm này là $\\mathcal{G}.$ Ta thấy $\\mathcal{G}$ sinh bởi các phần tử $X, X + 1, X + 2, \\cdots, X + l$ trong trường $\\mathbb{F} = \\mathbb{F}_p[X]/(h(X))$ và là nhóm con của nhóm nhân của $\\mathbb{F}.$\n",
    "\n",
    "\n",
    "Bổ đề tiếp theo chứng minh một cận dưới cho kích cỡ của nhóm $\\mathcal{G}.$\n",
    "\n",
    "\n",
    "**Bổ đề 4.** $\\lvert \\mathcal{G} \\rvert \\geq {t - 1 \\choose t + l}.$\n",
    "\n",
    "_Chứng minh._\n",
    "Đầu tiên, nhắc lại rằng vì $h(X)$ là một ước của đa thức vòng tròn $Q_r(X),$ nên $X$ là một căn nguyên thủy thứ $r$ trên $\\mathbb{F}.$\n",
    "Ta sẽ chứng minh rằng mọi cặp đa thức phân biệt có bậc nhỏ hơn $t$ trong $P$ sẽ tương ứng với 2 phần tử phân biệt trong $\\mathcal{G}:$ chọn $f(X)$ và $g(X)$ là 2 đa thức như vậy. Giả sử \n",
    "$$f(X) = g(X)\\;\\pmod{X^r - 1, p}\\;(\\mbox{tức là bằng nhau trong}\\;\\mathbb{F}).$$\n",
    "Với $m \\in I$ nào đó, ta có\n",
    "$$f(X^m) = g(X^m)\\;\\pmod{X^r - 1, p}.$$\n",
    "Vì $h(X)$ là một ước của $X^r - 1,$ ta cũng có\n",
    "$$f(X^m) = g(X^m)\\;\\pmod{X^r - 1, p},$$\n",
    "hay $f(X^m) = g(X^m)$ trong $\\mathbb{F}.$ Từ đây suy ra, $X^m$ là một nghiệm của đa thức $Q(X) = f(X) - g(X)$ với mọi $m \\in G.$ Vì $(m, r) = 1$ nên mỗi $X^m$ là một căn nguyên thủy thứ $r.$ Tuy nhiên, do $\\lvert G\\rvert = t$ nên chỉ có $t$ nghiệm của $Q(X)$ trên $\\mathbb{F}.$ Lại có, bậc của $Q(X)$ nhỏ hơn $t$ do cách chọn đa thức $f(X)$ và $g(X),$ nên ta có điều mâu thuẫn. Vậy $f(X) \\ne g(X)$ trên $\\mathbb{F}.$\n",
    "Tiếp theo, với mọi $i \\ne j$ trên $\\mathbb{F}$ với $1 \\leq i \\ne j \\leq l$ do $l < \\sqrt{r}\\log n < p,$ nên suy ra các phần tử $X, X + 1, \\cdots, X + l$ là phân biệt trên $\\mathbb{F}.$ Lại có, vì bậc của $h$ lớn hơn $1, X + a \\ne 0$ trên $\\mathbb{F}$ với mọi số $a, 0 \\leq a \\leq l.$ Tức là, phải tồn tại ít nhất $l + 1$ đa thức phân biệt của bậc $1$ trong $\\mathcal{G}.$ Vậy phải tồn tại ít nhất $t + l \\choose t - 1$ đa thức phân biệt có bậc nhỏ hơn $t$ trong $\\mathcal{G}.$ $\\blacksquare$\n",
    "\n",
    "\n",
    "Trong trường hợp đặc biệt, khi $n$ không phải một lũy thừa của $p,$ kích cỡ của $\\mathcal{G}$ cũng có thể có chặn trên:\n",
    "\n",
    "\n",
    "**Bổ đề 5.**  Nếu $n$ không phải một lũy thừa của $p$ thì $\\lvert \\mathcal{G} \\rvert \\leq n^{\\sqrt{t}}.$\n",
    "\n",
    "_Chứng minh._\n",
    "Xét tập con $\\hat{I}$ của $I:$\n",
    "$$\\hat{I} = \\{(\\frac{n}{p})^i \\cdot p^j \\vert 0 \\leq i, j \\leq \\lfloor \\sqrt{t} \\rfloor \\}.$$\n",
    "Giả sử $n$ không phải một lũy thừa của $p,$ khi đó $\\lvert\\hat{I}\\rvert = \\left(\\sqrt{t} + 1\\right)^2 > t.$ Do $\\lvert G \\rvert = t,$ nên phải tồn tại $2$ phần tử dồng dư với nhau Modulo $r$ trong $\\hat{I},$ giả sử là $m_1 > m_2.$ Ta có\n",
    "$$X^{m_1} = X^{m_2}\\pmod{X^r - 1, p}.$$\n",
    "Với đa thức $f(X) \\in P$ nào đó, ta cũng có\n",
    "\\begin{align*}\n",
    "f(X)^{m_1} &= f(X^{m_1})\\pmod{X^r - 1, p}\\\\\n",
    "&= f(X^{m_2})\\pmod{X^r - 1, p}\\\\\n",
    "&= f(X)^{m_2}\\pmod{X^r - 1, p}.\n",
    "\\end{align*}\n",
    "Suy ra, $[f(X)]^{m_1} = [f(x)]^{m_2}$ trên $\\mathbb{F},$\\\\\n",
    "$\\Rightarrow f(X) \\in \\mathcal{G}$ là một nghiệm của đa thức $Q'(Y) = Y^{m_1} - Y^{m_2}$ trên trường $\\mathbb{F}.$ Do $f(X)$ là một phần tử bất kỳ trên $\\mathcal{G},$ nên đa thức $R(X)$ có ít nhất $\\lvert\\mathcal{G}\\rvert$ nghiệm phân biệt trên $\\mathbb{F}.$ Và vì bậc của $Q'(X)$ là $m_1 \\leq \\left(\\frac{n}{p}\\cdot p\\right)^{\\lfloor\\sqrt{t}\\rfloor} \\leq n^{\\sqrt{t}}.$ Tóm lại, $\\lvert\\mathcal{G}\\rvert \\leq n^{\\sqrt{t}}.$ $\\blacksquare$\n",
    "\n",
    "\n",
    "Bây giờ ta đã có đủ công cụ để chứng minh phần còn lại của Định lý 1, tính đúng đắn của Thuật toán:\n",
    "\n",
    "\n",
    "**Bổ đề 6.** Nếu Thuật toán trả về PRIME thì $n$ là số nguyên tố.\n",
    "\n",
    "_Chứng minh._ \n",
    "Giả sử Thuật toán trả về PRIME (ở Bước 6). Ta có:\n",
    "- $n$ không phải lũy thừa của một số nguyên tố;\n",
    "- Tìm được $r \\leq \\max\\{3, \\lceil\\log^5n\\rceil\\}$ thỏa mãn $\\mbox{o}_r(n) > \\log^2n;$\n",
    "- Tồn tại số nguyên tố $p \\vert n: \\mbox{o}_r(p) > 1,\\;\\mbox{và}\\;(n,r) = (p, r) = 1;$\n",
    "- $n > r, p > r;$\n",
    "- $\\forall\\;a\\in[1, \\lfloor\\sqrt{\\Phi(r)}\\log n\\rfloor],$\n",
    "$$(X + a)^n = X^n + a\\pmod{X^r - 1, p};$$\n",
    "- $\\lvert G\\rvert = t,\\;l = \\lfloor\\sqrt{\\Phi(r)}\\log n\\rfloor > \\sqrt{t}\\log n.$\n",
    "Ta có:\n",
    "\\begin{align*}\n",
    "\\lvert\\mathcal{G}\\rvert &\\geq {t + l \\choose t - 1}\\\\\n",
    "&\\geq {l + 1 + \\lfloor\\sqrt{t}\\log n\\rfloor \\choose \\lfloor\\sqrt{t}\\log n\\rfloor}\\;&(\\mbox{vì}\\;t > \\sqrt{t}\\log n)\\\\\n",
    "&\\geq {2\\lfloor\\sqrt{t}\\log n\\rfloor + 1 \\choose \\lfloor\\sqrt{t}\\log n\\rfloor}\\;&(\\mbox{vì}\\;l \\geq \\lfloor\\sqrt{t}\\log n\\rfloor)\\\\\n",
    "&> 2^{\\lfloor\\sqrt{t}\\log n\\rfloor + 1}\\;&(\\mbox{vì}\\;\\lfloor\\sqrt{t}\\log n\\rfloor > \\lfloor\\log^2n\\rfloor \\geq 1)\\\\\n",
    "&\\geq n^{\\sqrt{t}}.\n",
    "\\end{align*}\n",
    "Tức là $\\lvert\\mathcal{G}\\rvert > n^{\\sqrt{t}}.$ Từ đây, theo Bổ đề 5, $n = p$ và là một số nguyên tố. $\\blacksquare$"
   ]
  },
  {
   "cell_type": "markdown",
   "metadata": {},
   "source": [
    "## 3. Thực thi Thuật toán & ví dụ"
   ]
  },
  {
   "cell_type": "code",
   "execution_count": 1,
   "metadata": {},
   "outputs": [],
   "source": [
    "def AKS_primalityTest(n):\n",
    "    \n",
    "    # step 0:\n",
    "    P = \"PRIME\"\n",
    "    C = \"COMPOSITE\"\n",
    "    if n < 2:\n",
    "        return None\n",
    "    if n == 2:\n",
    "        return P\n",
    "    \n",
    "    # step 1\n",
    "    if n.perfect_power()[1] > 1:\n",
    "        return C\n",
    "    \n",
    "    # step 2\n",
    "    r = 2\n",
    "    while gcd(n, r) == 1:\n",
    "        o_r = mod(n, r).multiplicative_order()\n",
    "        if o_r > (log(n))^2:\n",
    "            break\n",
    "        else:\n",
    "            r += 1\n",
    "    \n",
    "    # step 3\n",
    "    for i in range(2, r + 1):\n",
    "        if 1 < gcd(i, n) < n:\n",
    "            return C\n",
    "        \n",
    "    # step 4\n",
    "    if n <= r:\n",
    "        return P\n",
    "    \n",
    "    # step 5:\n",
    "    ZnX.<X> = IntegerModRing(n)[]\n",
    "    F.<X> = ZnX.quo(X^r - 1)\n",
    "    for j in range(1, floor(sqrt(euler_phi(r)) * log(n))):\n",
    "        if F((X + j) ^ n) != F(X ^ n + j):\n",
    "            return C\n",
    "        \n",
    "    # step 6\n",
    "    return P"
   ]
  },
  {
   "cell_type": "markdown",
   "metadata": {},
   "source": [
    "**Giải thích các hàm có sẵn sử dụng trong Thuật toán.**\n",
    "- `n.perfect_power()`: Kiểm tra xem số $n$ có viết được dưới dạng $n = a^b$ hay không. Hàm trả về một tuple $(a, b)$ sao cho số mũ $b$ là lớn nhất có thể.\n",
    "- `gcd(n, r)`: Trả về giá trị là ước chung lớn nhất của 2 số $n$ và $r$.\n",
    "- `mod(n,r).multiplicative_order()`: Lấy ra cấp của phần tử $n$ trong nhóm nhân $\\mathbb{Z}_r.$\n",
    "- `ZnX.<X> = IntegerModRing(n)[]`: Khai báo vành đa thức $\\left(\\mathbb{Z}/n\\mathbb{Z}\\right)[X],$ hay $\\mathbb{Z}_n[X].$\n",
    "- `F.<X> = ZnX.quo(X^r - 1)`: Khai báo vành đa thức $\\mathbb{Z}_n[X]/(X^r - 1).$\n",
    "- `euler_phi(r)`: Trả về giá trị là giá trị của hàm Euler $\\phi$ của số $r$. "
   ]
  },
  {
   "cell_type": "markdown",
   "metadata": {},
   "source": [
    "**Ví dụ.**"
   ]
  },
  {
   "cell_type": "code",
   "execution_count": 2,
   "metadata": {},
   "outputs": [
    {
     "data": {
      "text/plain": [
       "1000000000039"
      ]
     },
     "execution_count": 2,
     "metadata": {},
     "output_type": "execute_result"
    }
   ],
   "source": [
    "n = next_prime(10^12); n"
   ]
  },
  {
   "cell_type": "code",
   "execution_count": 3,
   "metadata": {},
   "outputs": [
    {
     "data": {
      "text/plain": [
       "'PRIME'"
      ]
     },
     "execution_count": 3,
     "metadata": {},
     "output_type": "execute_result"
    }
   ],
   "source": [
    "AKS_primalityTest(n)"
   ]
  },
  {
   "cell_type": "code",
   "execution_count": 4,
   "metadata": {},
   "outputs": [
    {
     "data": {
      "text/plain": [
       "'COMPOSITE'"
      ]
     },
     "execution_count": 4,
     "metadata": {},
     "output_type": "execute_result"
    }
   ],
   "source": [
    "AKS_primalityTest(next_prime(10^12) * next_prime(10^11))"
   ]
  },
  {
   "cell_type": "markdown",
   "metadata": {},
   "source": [
    "## 4. So sánh"
   ]
  },
  {
   "cell_type": "markdown",
   "metadata": {},
   "source": [
    "Trong phần này, ta sẽ so sánh thuật toán AKS kiểm tra số nguyên tố với thuật toán được sử dụng trong hàm kiểm tra số nguyên tố có sẵn trong SageMath: `is_prime()`. Thực chất ở đây việc so sánh một cách chính xác cần phải dựa trên các Lý thuyết về Độ phức tạp tính toán để có cái nhìn chính xác nhất. Tuy nhiên, trước hết ta có thể thử thực hiện so sánh thời gian chạy thực tế với một số _không quá lớn_ ($10^{12},$ cỡ 40 bits). "
   ]
  },
  {
   "cell_type": "code",
   "execution_count": 5,
   "metadata": {},
   "outputs": [
    {
     "name": "stdout",
     "output_type": "stream",
     "text": [
      "19.8 s ± 2.34 s per loop (mean ± std. dev. of 7 runs, 1 loop each)\n"
     ]
    }
   ],
   "source": [
    "%timeit AKS_primalityTest(n)"
   ]
  },
  {
   "cell_type": "code",
   "execution_count": 6,
   "metadata": {},
   "outputs": [
    {
     "name": "stdout",
     "output_type": "stream",
     "text": [
      "1.01 µs ± 58 ns per loop (mean ± std. dev. of 7 runs, 1000000 loops each)\n"
     ]
    }
   ],
   "source": [
    "%timeit is_prime(n)"
   ]
  },
  {
   "cell_type": "markdown",
   "metadata": {},
   "source": [
    "Cần phải lưu ý rằng, đoạn thực thi Thuật toán AKS được đưa ra chưa hoàn toàn được tối ưu, đồng thời cũng sử dụng rất nhiều hàm có sẵn có trong SageMath để giảm thời gian chạy. Dẫu vậy, ta có thể thấy ngay sự khác biệt giữa 2 thuật toán là rất lớn: Thuật toán sử dụng trong hàm có sẵn `is_prime()` chỉ mất 982 nano - giây!\n",
    "\n",
    "Thuật toán được sử dụng cho hàm `is_prime()` là một sự kết hợp của nhiều thuật toán đã được chứng minh có thời gian chạy rất tốt, trong đó có Thuật toán Miller - Rabin.\n",
    "\n",
    "**Thuật toán (Miller - Rabin).** Cho trước một số tự nhiên $n \\geq 5,$ thuật toán trả về 2 giá trị Đúng hoặc Sai. Nếu Đúng, khi đó $n$ \"có thể là\" số nguyên tố, ngược lại, $n$ chắc chắn là hợp số.\n",
    "1. Tính các số tự nhiên duy nhất $m$ và $k$ sao cho $m$ là số lẻ và $n - 1 = 2^k\\cdot m.$\n",
    "2. Chọn một số tự nhiên ngẫu nhiên $a$ sao cho $1 < a < n.$\n",
    "3. Đặt $b = a^m \\pmod{n}.$ Nếu $b = \\pm 1 \\pmod{n},$ thuật toán dừng và trả về giá trị Đúng.\n",
    "4. Nếu $b^{2^r} = - 1 \\pmod{n}$ với mọi số $r$ thỏa mãn $1 \\leq r \\leq k - 1,$ thuật toán dừng và trả về giá trị Đúng.\n",
    "5. Trả về giá trị Sai.\n",
    "    \n",
    "Nếu Thuật toán Miller - Rabin trả về Đúng với $n,$ ta có thể tiếp tục sử dụng Thuật toán với $n$ và nếu tiếp tục đúng thì \"khả năng\" số $n$ là số nguyên tố sẽ tăng. Điều đó có nghĩa là để kiểm tra một số $n$ có là số nguyên tố, người ta thực hiện liên tiếp một số lần Thuật toán cho đến khi kết luận được $n$ là hợp số hoặc\"khả năng\" để là số nguyên tố của $n$ đạt yêu cầu nhất định.\n",
    "\n",
    "Thuật toán Miller - Rabin có thời gian chạy là $O(K\\cdot \\log^3(n)),$ trong đó $K$ là số lần chạy Thuật toán. Thuật toán AKS có thời gian chạy là $O(\\log^{\\frac{21}{2} + \\varepsilon}n),$ với mọi $\\varepsilon > 0.$ Rõ ràng, ta có thể thấy Thuật toán Miller - Rabin tốt hơn khá nhiều so với AKS. "
   ]
  },
  {
   "cell_type": "markdown",
   "metadata": {},
   "source": [
    "## 5. Kết luận"
   ]
  },
  {
   "cell_type": "markdown",
   "metadata": {},
   "source": [
    "Cho tới nay, việc tìm ra thuật toán kiểm tra số nguyên tố trong thời gian đa thức vẫn còn là một câu hỏi mở. Thuật toán của Agrawal, Kayal và Saxena là thuật toán có thời gian đa thức đầu tiên được đưa ra. Dẫu cho ngày nay, việc sử dụng Thuật toán này để tính toán trên thực tế là không có, nó vẫn mang vẻ đẹp về mặt Toán học rất lớn, và là bước ngoặt cho công cuộc đi tìm một thuật toán hiệu quả cho bài toán \"sơ cấp\": kiểm tra số nguyên tố."
   ]
  }
 ],
 "metadata": {
  "kernelspec": {
   "display_name": "SageMath 9.3",
   "language": "sage",
   "name": "sagemath"
  },
  "language_info": {
   "codemirror_mode": {
    "name": "ipython",
    "version": 3
   },
   "file_extension": ".py",
   "mimetype": "text/x-python",
   "name": "python",
   "nbconvert_exporter": "python",
   "pygments_lexer": "ipython3",
   "version": "3.7.10"
  }
 },
 "nbformat": 4,
 "nbformat_minor": 4
}
